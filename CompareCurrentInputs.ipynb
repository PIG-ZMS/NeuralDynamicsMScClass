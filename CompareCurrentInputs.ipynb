{
 "cells": [
  {
   "cell_type": "code",
   "execution_count": 1,
   "id": "6879b208-f1a9-4174-9adb-682be98017c5",
   "metadata": {},
   "outputs": [
    {
     "data": {
      "text/plain": [
       "1.0"
      ]
     },
     "execution_count": 1,
     "metadata": {},
     "output_type": "execute_result"
    }
   ],
   "source": [
    "from neuron import h, gui\n",
    "import numpy as np\n",
    "import matplotlib.pyplot as plt\n",
    "h.load_file('stdrun.hoc')\n"
   ]
  },
  {
   "cell_type": "code",
   "execution_count": 2,
   "id": "b478a119-5e3e-47a0-9660-81a29c666e74",
   "metadata": {},
   "outputs": [],
   "source": [
    "\n",
    "# --- Model ---\n",
    "soma = h.Section(name='soma')\n",
    "soma.L = soma.diam = 20  # µm\n",
    "soma.Ra = 100\n",
    "soma.cm = 1.0\n",
    "soma.insert('pas')\n",
    "soma.e_pas = -65\n",
    "soma.g_pas = 1e-4\n",
    "soma.insert('hh')\n",
    "\n",
    "# --- Stimulus (shared timing) ---\n",
    "stim = h.IClamp(soma(0.5))\n",
    "stim.delay = 5.0   # ms\n",
    "stim.dur   = 1.0   # ms\n",
    "\n",
    "tstop = 40.0\n",
    "v_init = -65.0"
   ]
  },
  {
   "cell_type": "code",
   "execution_count": 3,
   "id": "0c1e4516-86bc-4c24-820e-d8a2a12804d2",
   "metadata": {},
   "outputs": [],
   "source": [
    "                    # record default gbar values for hh (to scale from)\n",
    "                    # attribute names for built-in hh are gnabar_hh and gkbar_hh\n",
    "                    base_gna = getattr(soma(0.5), 'gnabar_hh', None)\n",
    "                    base_gk  = getattr(soma(0.5), 'gkbar_hh', None)\n",
    "\n",
    "                    # restore base conductances or use this to set to another value\n",
    "                    soma(0.5).gnabar_hh = base_gna\n",
    "                    soma(0.5).gkbar_hh  = base_gk\n"
   ]
  },
  {
   "cell_type": "code",
   "execution_count": 4,
   "id": "941530b6-f5a6-434e-b4eb-08914c5b4456",
   "metadata": {},
   "outputs": [],
   "source": [
    "\n",
    "# --- Parameters to compare ---\n",
    "amp1 = 0.05  # nA\n",
    "amp2 = 0.1  # nA\n",
    "spike_v_threshold = 0.0  # mV for spike detection\n",
    "\n",
    "def run_trial(amp):\n",
    "    stim.amp = amp\n",
    "    tvec = h.Vector().record(h._ref_t)\n",
    "    vvec = h.Vector().record(soma(0.5)._ref_v)\n",
    "    h.finitialize(v_init)\n",
    "    h.continuerun(tstop)\n",
    "    t = np.array(tvec); v = np.array(vvec)\n",
    "    spiked = v.max() > spike_v_threshold\n",
    "    peak_v = v.max()\n",
    "    spike_time = None\n",
    "    if spiked:\n",
    "        idx = np.where(v > spike_v_threshold)[0][0]\n",
    "        spike_time = t[idx]\n",
    "        latency = spike_time - stim.delay\n",
    "    else:\n",
    "        latency = None\n",
    "    return {'amp': amp, 't': t, 'v': v, 'spiked': spiked, 'peak_v': peak_v, 'latency': latency}"
   ]
  },
  {
   "cell_type": "code",
   "execution_count": 5,
   "id": "ccc8f341-46e7-4c9e-8bdd-98476ff50fc9",
   "metadata": {},
   "outputs": [],
   "source": [
    "\n",
    "r1 = run_trial(amp1)\n",
    "r2 = run_trial(amp2)\n"
   ]
  },
  {
   "cell_type": "code",
   "execution_count": 6,
   "id": "6caf20d1-94a6-4d3d-a908-46d1c691ade8",
   "metadata": {},
   "outputs": [
    {
     "name": "stdout",
     "output_type": "stream",
     "text": [
      "Amp = 0.050 nA: peak V = -61.82 mV; spiked = False\n",
      "Amp = 0.100 nA: peak V = 33.84 mV; spiked = True; latency = 4.85 ms after stimulus onset\n"
     ]
    }
   ],
   "source": [
    "\n",
    "# --- Print simple summary ---\n",
    "def print_summary(r):\n",
    "    print(f\"Amp = {r['amp']:.3f} nA: peak V = {r['peak_v']:.2f} mV; spiked = {r['spiked']}\", end='')\n",
    "    if r['spiked']:\n",
    "        print(f\"; latency = {r['latency']:.2f} ms after stimulus onset\")\n",
    "    else:\n",
    "        print()\n",
    "\n",
    "print_summary(r1)\n",
    "print_summary(r2)"
   ]
  },
  {
   "cell_type": "code",
   "execution_count": 7,
   "id": "4b88205b-e2e3-4d0e-801d-ab63cd629cfd",
   "metadata": {},
   "outputs": [
    {
     "data": {
      "image/png": "[encoded data removed]",
      "text/plain": [
       "<Figure size 600x300 with 1 Axes>"
      ]
     },
     "metadata": {},
     "output_type": "display_data"
    }
   ],
   "source": [
    "\n",
    "\n",
    "# --- Plot overlay ---\n",
    "plt.figure(figsize=(6,3))\n",
    "plt.plot(r1['t'], r1['v'], label=f\"{r1['amp']:.3f} nA\", color='C0', lw=1.5)\n",
    "plt.plot(r2['t'], r2['v'], label=f\"{r2['amp']:.3f} nA\", color='C1', lw=1.5)\n",
    "plt.axvline(stim.delay, color='k', ls='--', lw=0.8, label='stim on')\n",
    "plt.xlabel('Time (ms)')\n",
    "plt.ylabel('Membrane potential (mV)')\n",
    "plt.title('Comparison of responses to two stimulus amplitudes')\n",
    "plt.legend(loc='upper right')\n",
    "plt.xlim(0, tstop)\n",
    "plt.tight_layout()\n",
    "plt.show()"
   ]
  },
  {
   "cell_type": "code",
   "execution_count": null,
   "id": "4d572138-244d-4705-81f1-e674c3aa30f6",
   "metadata": {},
   "outputs": [],
   "source": []
  }
 ],
 "metadata": {
  "kernelspec": {
   "display_name": "Python 3 (ipykernel)",
   "language": "python",
   "name": "python3"
  },
  "language_info": {
   "codemirror_mode": {
    "name": "ipython",
    "version": 3
   },
   "file_extension": ".py",
   "mimetype": "text/x-python",
   "name": "python",
   "nbconvert_exporter": "python",
   "pygments_lexer": "ipython3",
   "version": "3.13.3"
  }
 },
 "nbformat": 4,
 "nbformat_minor": 5
}
