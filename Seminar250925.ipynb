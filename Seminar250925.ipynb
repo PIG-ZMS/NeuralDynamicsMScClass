{
 "cells": [
  {
   "cell_type": "markdown",
   "id": "532e8b0b-f24c-4cb4-a175-63b2b52e1ef4",
   "metadata": {},
   "source": [
    "To set things up we import the neuron, numpy and matplotlib packages. "
   ]
  },
  {
   "cell_type": "code",
   "execution_count": null,
   "id": "7c830d9d-6ea7-4ac2-bc95-beb58e1f0c86",
   "metadata": {},
   "outputs": [],
   "source": [
    "from neuron import h, gui\n",
    "\n",
    "import numpy as np\n",
    "\n",
    "import matplotlib.pyplot as plt\n",
    "\n",
    "h.load_file('stdrun.hoc')"
   ]
  },
  {
   "cell_type": "markdown",
   "id": "d1a3cf25-008b-4464-a917-98d201ba48b0",
   "metadata": {},
   "source": [
    "Build the soma. The command h.section initialises the soma as a section, and the following commands set the length/diameter, axial ('internal') resistance and the capacitance / area."
   ]
  },
  {
   "cell_type": "code",
   "execution_count": 18,
   "id": "1e5dc09f-d46e-49da-b69c-735431bcf69e",
   "metadata": {},
   "outputs": [],
   "source": [
    "soma = h.Section(name='soma')\n",
    "soma.L = soma.diam = 30  # µm\n",
    "soma.Ra = 100            # ohm·cm\n",
    "soma.cm = 1              # µF/cm2"
   ]
  },
  {
   "cell_type": "markdown",
   "id": "bddcb3ee-7547-4e9d-a0c1-73f38363ccc4",
   "metadata": {},
   "source": [
    "Insert passive + Hodgkin-Huxley channels:"
   ]
  },
  {
   "cell_type": "code",
   "execution_count": 19,
   "id": "4716e8d6-6c75-4f5e-b4f7-e067ebc378bb",
   "metadata": {},
   "outputs": [
    {
     "data": {
      "text/plain": [
       "soma"
      ]
     },
     "execution_count": 19,
     "metadata": {},
     "output_type": "execute_result"
    }
   ],
   "source": [
    "soma.insert('pas')\n",
    "soma.e_pas = -65\n",
    "soma.g_pas = 1e-4\n",
    "soma.insert('hh')"
   ]
  },
  {
   "cell_type": "markdown",
   "id": "fa5ff666-13df-4fb7-9764-c5813486def5",
   "metadata": {},
   "source": [
    "Insert a 'current clamp' at the soma and set it's parameters. We use this to inject current."
   ]
  },
  {
   "cell_type": "code",
   "execution_count": 20,
   "id": "8564ad76-6355-407e-a923-cf7f721d6d76",
   "metadata": {},
   "outputs": [],
   "source": [
    "stim = h.IClamp(soma(0.5))\n",
    "stim.delay = 5.0   # ms\n",
    "stim.dur   = 1.0   # ms\n",
    "stim.amp   = 0.5  # nA"
   ]
  },
  {
   "cell_type": "markdown",
   "id": "06f224bc-5e2b-40d5-9858-0777fea08de6",
   "metadata": {},
   "source": [
    "Set up vectors to record the membrane potential and time."
   ]
  },
  {
   "cell_type": "code",
   "execution_count": 21,
   "id": "f53ab157-c660-4b3a-a1fd-530d9fc8e3f7",
   "metadata": {},
   "outputs": [],
   "source": [
    "tvec = h.Vector().record(h._ref_t)\n",
    "vvec = h.Vector().record(soma(0.5)._ref_v)"
   ]
  },
  {
   "cell_type": "markdown",
   "id": "91100776-4a4a-474f-b867-9df550f37207",
   "metadata": {},
   "source": [
    "Initialise the model with a membrane potential of -65 mV and then simulate for 40 ms."
   ]
  },
  {
   "cell_type": "code",
   "execution_count": 22,
   "id": "5e77186d-2036-4d50-ab29-9f2dbf21d5b1",
   "metadata": {},
   "outputs": [
    {
     "data": {
      "text/plain": [
       "0.0"
      ]
     },
     "execution_count": 22,
     "metadata": {},
     "output_type": "execute_result"
    }
   ],
   "source": [
    "h.finitialize(-65)\n",
    "h.continuerun(40.0)"
   ]
  },
  {
   "cell_type": "markdown",
   "id": "4bb1ee80-d949-474c-8400-3498c117915d",
   "metadata": {},
   "source": [
    "Copy the recorded time and voltage vectors to numpy variables."
   ]
  },
  {
   "cell_type": "code",
   "execution_count": 23,
   "id": "91988179-0fcb-4fb2-8193-f2923bd4ff89",
   "metadata": {},
   "outputs": [],
   "source": [
    "t = np.array(tvec)\n",
    "v = np.array(vvec)"
   ]
  },
  {
   "cell_type": "markdown",
   "id": "d0a6a01d-3e2f-4500-a1bf-72b4729e00db",
   "metadata": {},
   "source": [
    "Use matplotlib to plot voltage against time."
   ]
  },
  {
   "cell_type": "code",
   "execution_count": 24,
   "id": "bbd9d30d-5371-44fd-990e-5ff48bea5860",
   "metadata": {},
   "outputs": [
    {
     "data": {
      "image/png": "[encoded data removed]",
      "text/plain": [
       "<Figure size 600x300 with 1 Axes>"
      ]
     },
     "metadata": {},
     "output_type": "display_data"
    }
   ],
   "source": [
    "plt.figure(figsize=(6,3))\n",
    "plt.plot(t, v, color='k', lw=1.5)\n",
    "plt.xlabel('Time (ms)')\n",
    "plt.ylabel('Membrane potential (mV)')\n",
    "plt.title('Action potential — single-compartment soma')\n",
    "plt.xlim(t.min(), t.max())\n",
    "plt.tight_layout()\n",
    "plt.show()"
   ]
  },
  {
   "cell_type": "markdown",
   "id": "a7d4f553-dfdf-41b2-be16-9b50b9ac77c6",
   "metadata": {},
   "source": [
    "Make copies of the maximal values of the Na and K conductance in case we want to reset these later."
   ]
  },
  {
   "cell_type": "code",
   "execution_count": 25,
   "id": "1abb8815-323d-4593-8e6e-10a2a17763d4",
   "metadata": {},
   "outputs": [],
   "source": [
    "base_gna = getattr(soma(0.5), 'gnabar_hh', None)\n",
    "base_gk  = getattr(soma(0.5), 'gkbar_hh', None)"
   ]
  },
  {
   "cell_type": "code",
   "execution_count": 26,
   "id": "233a4e5b-907a-4b25-80ff-73fd3f752264",
   "metadata": {},
   "outputs": [
    {
     "name": "stdout",
     "output_type": "stream",
     "text": [
      "0.12\n",
      "0.036\n"
     ]
    }
   ],
   "source": [
    "print(base_gna)\n",
    "print(base_gk)"
   ]
  },
  {
   "cell_type": "markdown",
   "id": "b44e093d-82e8-4c7d-bbcb-ac050851c0ec",
   "metadata": {},
   "source": [
    "Set the Na conductance to zero, simulate again, copy the voltage and time vectors to numpy variables, then make a plot.\n",
    "\n",
    "Note we're repeating some code from above here. This is fine but can become a bit messy. As your Python skills develop you might think of ways to convert the repeated code into functions. This can make code cleaner and easier to debug."
   ]
  },
  {
   "cell_type": "code",
   "execution_count": 27,
   "id": "8febfe24-7afa-447f-96a5-8779256abfb4",
   "metadata": {},
   "outputs": [
    {
     "data": {
      "image/png": "[encoded data removed]",
      "text/plain": [
       "<Figure size 600x300 with 1 Axes>"
      ]
     },
     "metadata": {},
     "output_type": "display_data"
    }
   ],
   "source": [
    "soma(0.5).gkbar_hh  = 0\n",
    "\n",
    "h.finitialize(-65)\n",
    "h.continuerun(40.0)\n",
    "\n",
    "t = np.array(tvec)\n",
    "v = np.array(vvec)\n",
    "\n",
    "plt.figure(figsize=(6,3))\n",
    "plt.plot(t, v, color='k', lw=1.5)\n",
    "plt.xlabel('Time (ms)')\n",
    "plt.ylabel('Membrane potential (mV)')\n",
    "plt.title('Action potential — single-compartment soma')\n",
    "plt.xlim(t.min(), t.max())\n",
    "plt.tight_layout()\n",
    "plt.show()\n",
    "\n",
    "soma(0.5).gkbar_hh  = base_gk\n",
    "soma(0.5).gnabar_hh = 0\n",
    "\n",
    "h.finitialize(-65)\n",
    "h.continuerun(40.0)\n",
    "\n",
    "t = np.array(tvec)\n",
    "v = np.array(vvec)\n",
    "\n"
   ]
  }
 ],
 "metadata": {
  "kernelspec": {
   "display_name": "Python 3 (ipykernel)",
   "language": "python",
   "name": "python3"
  },
  "language_info": {
   "codemirror_mode": {
    "name": "ipython",
    "version": 3
   },
   "file_extension": ".py",
   "mimetype": "text/x-python",
   "name": "python",
   "nbconvert_exporter": "python",
   "pygments_lexer": "ipython3",
   "version": "3.13.3"
  }
 },
 "nbformat": 4,
 "nbformat_minor": 5
}
